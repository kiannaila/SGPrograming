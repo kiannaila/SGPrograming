{
  "nbformat": 4,
  "nbformat_minor": 0,
  "metadata": {
    "colab": {
      "name": "Tugas Programing_Rumus Bangun Ruang.ipynb",
      "provenance": []
    },
    "kernelspec": {
      "name": "python3",
      "display_name": "Python 3"
    }
  },
  "cells": [
    {
      "cell_type": "code",
      "metadata": {
        "colab": {
          "base_uri": "https://localhost:8080/"
        },
        "id": "BegeNHUjwoQf",
        "outputId": "eb8eb70f-031d-488c-c2ea-53961a552d96"
      },
      "source": [
        "print(\"----Rumus Volume dan Luas Balok----\")\r\n",
        "p = int(input(\"Masukkan panjang:\"))\r\n",
        "l = int(input(\"Masukkan lebar:\"))\r\n",
        "t = int(input(\"Masukkan tinggi:\"))\r\n",
        "\r\n",
        "luas = (2*p*l)+(2*p*l)+(2*p*l)\r\n",
        "volume = p*l*t\r\n",
        "\r\n",
        "print(\"Luas balok=\", luas)\r\n",
        "print(\"Volume balok=\", volume)"
      ],
      "execution_count": 4,
      "outputs": [
        {
          "output_type": "stream",
          "text": [
            "----Rumus Volume dan Luas Balok----\n",
            "Masukkan panjang:2\n",
            "Masukkan lebar:3\n",
            "Masukkan tinggi:4\n",
            "Luas balok= 36\n",
            "Volume balok= 24\n"
          ],
          "name": "stdout"
        }
      ]
    },
    {
      "cell_type": "code",
      "metadata": {
        "colab": {
          "base_uri": "https://localhost:8080/"
        },
        "id": "26N9tzsDyI_x",
        "outputId": "4392b6e8-16e2-411b-8e91-43dd40a11d45"
      },
      "source": [
        "print(\"----Rumus Volume dan Luas Tabung----\")\r\n",
        "r = int(input(\"Masukkan jari-jari:\"))\r\n",
        "t = int(input(\"Masukkan tinggi:\"))\r\n",
        "\r\n",
        "luas = 2*3.14*r+(r+t)\r\n",
        "volume = 3.14*r*r*t\r\n",
        "\r\n",
        "print(\"Luas Tabung=\", luas)\r\n",
        "print(\"Volume Tabung=\", volume)"
      ],
      "execution_count": 8,
      "outputs": [
        {
          "output_type": "stream",
          "text": [
            "----Rumus Volume dan Luas Tabung----\n",
            "Masukkan jari-jari:10\n",
            "Masukkan tinggi:13\n",
            "Luas Tabung= 85.80000000000001\n",
            "Volume Tabung= 4082.0\n"
          ],
          "name": "stdout"
        }
      ]
    },
    {
      "cell_type": "code",
      "metadata": {
        "colab": {
          "base_uri": "https://localhost:8080/"
        },
        "id": "K9Gj0z1M0MV4",
        "outputId": "8e172ec3-4b81-43ac-b05f-431d4e3cac9b"
      },
      "source": [
        "print(\"----Rumus Volume dan Luas Bola----\")\r\n",
        "r = int(input(\"Masukkan jari-jari:\"))\r\n",
        "\r\n",
        "volume = 4/3*3.14*r**3\r\n",
        "luas = 4*3.14*r*r\r\n",
        "\r\n",
        "print(\"Luas Bola=\", luas)\r\n",
        "print(\"Volume Bola=\", volume)"
      ],
      "execution_count": 14,
      "outputs": [
        {
          "output_type": "stream",
          "text": [
            "----Rumus Volume dan Luas Bola----\n",
            "Masukkan jari-jari:14\n",
            "Luas Bola= 2461.76\n",
            "Volume Bola= 11488.213333333333\n"
          ],
          "name": "stdout"
        }
      ]
    }
  ]
}